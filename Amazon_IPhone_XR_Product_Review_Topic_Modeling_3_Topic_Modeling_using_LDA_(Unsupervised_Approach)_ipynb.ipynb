{
  "nbformat": 4,
  "nbformat_minor": 0,
  "metadata": {
    "colab": {
      "name": "Amazon-IPhone-XR-Product-Review-Topic-Modeling--3. Topic Modeling using LDA (Unsupervised Approach).ipynb.ipynb",
      "provenance": [],
      "collapsed_sections": []
    },
    "kernelspec": {
      "name": "python3",
      "display_name": "Python 3"
    }
  },
  "cells": [
    {
      "cell_type": "code",
      "metadata": {
        "colab": {
          "base_uri": "https://localhost:8080/"
        },
        "id": "WIJv5meYHmvE",
        "outputId": "5c9812d4-10ed-4ac3-a6e9-9a9c907c360c"
      },
      "source": [
        "pip install -U pyLDAvis\n"
      ],
      "execution_count": null,
      "outputs": [
        {
          "output_type": "stream",
          "text": [
            "Collecting pyLDAvis\n",
            "\u001b[?25l  Downloading https://files.pythonhosted.org/packages/a5/3a/af82e070a8a96e13217c8f362f9a73e82d61ac8fff3a2561946a97f96266/pyLDAvis-2.1.2.tar.gz (1.6MB)\n",
            "\u001b[K     |████████████████████████████████| 1.6MB 5.6MB/s \n",
            "\u001b[?25hRequirement already satisfied, skipping upgrade: wheel>=0.23.0 in /usr/local/lib/python3.6/dist-packages (from pyLDAvis) (0.36.2)\n",
            "Requirement already satisfied, skipping upgrade: numpy>=1.9.2 in /usr/local/lib/python3.6/dist-packages (from pyLDAvis) (1.19.5)\n",
            "Requirement already satisfied, skipping upgrade: scipy>=0.18.0 in /usr/local/lib/python3.6/dist-packages (from pyLDAvis) (1.4.1)\n",
            "Requirement already satisfied, skipping upgrade: pandas>=0.17.0 in /usr/local/lib/python3.6/dist-packages (from pyLDAvis) (1.1.5)\n",
            "Requirement already satisfied, skipping upgrade: joblib>=0.8.4 in /usr/local/lib/python3.6/dist-packages (from pyLDAvis) (1.0.0)\n",
            "Requirement already satisfied, skipping upgrade: jinja2>=2.7.2 in /usr/local/lib/python3.6/dist-packages (from pyLDAvis) (2.11.2)\n",
            "Requirement already satisfied, skipping upgrade: numexpr in /usr/local/lib/python3.6/dist-packages (from pyLDAvis) (2.7.2)\n",
            "Requirement already satisfied, skipping upgrade: pytest in /usr/local/lib/python3.6/dist-packages (from pyLDAvis) (3.6.4)\n",
            "Requirement already satisfied, skipping upgrade: future in /usr/local/lib/python3.6/dist-packages (from pyLDAvis) (0.16.0)\n",
            "Collecting funcy\n",
            "  Downloading https://files.pythonhosted.org/packages/66/89/479de0afbbfb98d1c4b887936808764627300208bb771fcd823403645a36/funcy-1.15-py2.py3-none-any.whl\n",
            "Requirement already satisfied, skipping upgrade: pytz>=2017.2 in /usr/local/lib/python3.6/dist-packages (from pandas>=0.17.0->pyLDAvis) (2018.9)\n",
            "Requirement already satisfied, skipping upgrade: python-dateutil>=2.7.3 in /usr/local/lib/python3.6/dist-packages (from pandas>=0.17.0->pyLDAvis) (2.8.1)\n",
            "Requirement already satisfied, skipping upgrade: MarkupSafe>=0.23 in /usr/local/lib/python3.6/dist-packages (from jinja2>=2.7.2->pyLDAvis) (1.1.1)\n",
            "Requirement already satisfied, skipping upgrade: more-itertools>=4.0.0 in /usr/local/lib/python3.6/dist-packages (from pytest->pyLDAvis) (8.6.0)\n",
            "Requirement already satisfied, skipping upgrade: six>=1.10.0 in /usr/local/lib/python3.6/dist-packages (from pytest->pyLDAvis) (1.15.0)\n",
            "Requirement already satisfied, skipping upgrade: py>=1.5.0 in /usr/local/lib/python3.6/dist-packages (from pytest->pyLDAvis) (1.10.0)\n",
            "Requirement already satisfied, skipping upgrade: attrs>=17.4.0 in /usr/local/lib/python3.6/dist-packages (from pytest->pyLDAvis) (20.3.0)\n",
            "Requirement already satisfied, skipping upgrade: setuptools in /usr/local/lib/python3.6/dist-packages (from pytest->pyLDAvis) (51.3.3)\n",
            "Requirement already satisfied, skipping upgrade: atomicwrites>=1.0 in /usr/local/lib/python3.6/dist-packages (from pytest->pyLDAvis) (1.4.0)\n",
            "Requirement already satisfied, skipping upgrade: pluggy<0.8,>=0.5 in /usr/local/lib/python3.6/dist-packages (from pytest->pyLDAvis) (0.7.1)\n",
            "Building wheels for collected packages: pyLDAvis\n",
            "  Building wheel for pyLDAvis (setup.py) ... \u001b[?25l\u001b[?25hdone\n",
            "  Created wheel for pyLDAvis: filename=pyLDAvis-2.1.2-py2.py3-none-any.whl size=97712 sha256=6029b8ad3a1fc7814d44d1723710de1790400535764ae1003568d2c3c0be2f8e\n",
            "  Stored in directory: /root/.cache/pip/wheels/98/71/24/513a99e58bb6b8465bae4d2d5e9dba8f0bef8179e3051ac414\n",
            "Successfully built pyLDAvis\n",
            "Installing collected packages: funcy, pyLDAvis\n",
            "Successfully installed funcy-1.15 pyLDAvis-2.1.2\n"
          ],
          "name": "stdout"
        }
      ]
    },
    {
      "cell_type": "code",
      "metadata": {
        "id": "VztB0F8CHLy3"
      },
      "source": [
        "from gensim import corpora, models\n",
        "import pyLDAvis\n",
        "import pyLDAvis.gensim\n",
        "import numpy as np\n",
        "import matplotlib.pyplot as plt\n",
        "from wordcloud import WordCloud\n",
        "from tqdm import tqdm\n",
        "\n",
        "plt.rcParams[\"figure.figsize\"] = (22, 10)\n",
        "plt.style.use(\"seaborn-whitegrid\")\n",
        "\n",
        "\n",
        "class LDA:\n",
        "    def __init__(self, training_samples):\n",
        "        self.texts = training_samples\n",
        "        self.docs = [data.split() for data in self.texts]\n",
        "        self.dictionary = corpora.Dictionary(self.docs)\n",
        "        self.bow_corpus = [self.dictionary.doc2bow(doc) for doc in self.docs]\n",
        "\n",
        "    def __iter__(self):\n",
        "        self.length = len(self.texts)\n",
        "        self.n = 0\n",
        "        return self\n",
        "\n",
        "    def __next__(self):\n",
        "        token = self.bow_corpus[self.n]\n",
        "        self.n += 1\n",
        "        if self.n == self.length:\n",
        "            self.n == 1\n",
        "        return [(self.dictionary[ii], freq) for ii, freq in token]\n",
        "\n",
        "    def filter_extremes(self, keep_n, no_below, no_above):\n",
        "        self.dictionary.filter_extremes(\n",
        "            keep_n=keep_n, no_below=no_below, no_above=no_above\n",
        "        )\n",
        "        self.bow_corpus = [self.dictionary.doc2bow(doc) for doc in self.docs]\n",
        "\n",
        "    def fit(\n",
        "        self,\n",
        "        num_topics,\n",
        "        alpha=\"symmetric\",\n",
        "        beta=None,\n",
        "        passes=2,\n",
        "        random_state=9,\n",
        "        tuning=False,\n",
        "        predict_training_samples=False,\n",
        "    ):\n",
        "        self.model = models.ldamodel.LdaModel(\n",
        "            self.bow_corpus,\n",
        "            num_topics=num_topics,\n",
        "            alpha=alpha,\n",
        "            eta=beta,\n",
        "            id2word=self.dictionary,\n",
        "            passes=passes,\n",
        "            random_state=random_state,\n",
        "        )\n",
        "        # calculate perplexity score (the lower the better)\n",
        "        self.perplexity_score_ = self.model.log_perplexity(self.bow_corpus)\n",
        "        #         # calculate coherence score (the higher the better)\n",
        "        self.coherence_score_, self.coherence_score_per_topic_ = self.score(\n",
        "            self.docs, return_per_topic=True\n",
        "        )\n",
        "        if not tuning:\n",
        "            pyLDAvis.enable_notebook()\n",
        "            vis = pyLDAvis.gensim.prepare(self.model, self.bow_corpus, self.dictionary)\n",
        "            self.visualize_topics_ = pyLDAvis.display(vis)\n",
        "        else:\n",
        "            self.visualize_topics_ = 'Set tuning parameter in fit function to \"False\" to visualize LDA result!'\n",
        "            return self.coherence_score_\n",
        "        if predict_training_samples:\n",
        "            (\n",
        "                self.training_samples_predict_proba_,\n",
        "                self.training_samples_prediction_,\n",
        "            ) = self.predict(self.texts, True)\n",
        "\n",
        "    def score(self, docs, model=None, coherence=\"c_v\", return_per_topic=False):\n",
        "        if model == None:\n",
        "            model = self.model\n",
        "        # calculate coherence score (the higher the better)\n",
        "        cm = models.CoherenceModel(\n",
        "            model=model,\n",
        "            texts=docs,\n",
        "            dictionary=self.dictionary,\n",
        "            coherence=coherence,\n",
        "        )\n",
        "        if return_per_topic:\n",
        "            return cm.get_coherence(), cm.get_coherence_per_topic()\n",
        "        else:\n",
        "            return cm.get_coherence()\n",
        "\n",
        "    def print_output(self):\n",
        "        for idx, topic in self.model.print_topics(-1):\n",
        "            print(\n",
        "                \"Topic: {}\\tCoherence Score: {:.4f}\\nWords: {}\".format(\n",
        "                    idx, self.coherence_score_per_topic_[idx], topic\n",
        "                ),\n",
        "                end=\"\\n\\n########\\n\\n\",\n",
        "            )\n",
        "        else:\n",
        "            print(\n",
        "                \"Perplexity Score: {:.4f} \\nOverall Coherence Score: {:.4f}\".format(\n",
        "                    self.perplexity_score_, self.coherence_score_\n",
        "                )\n",
        "            )\n",
        "\n",
        "    def find_best_num_topics(\n",
        "        self,\n",
        "        num_topic_range=np.arange(2, 41, 1),\n",
        "        alpha=\"symmetric\",\n",
        "        beta=\"symmetric\",\n",
        "        random_state=9,\n",
        "    ):\n",
        "        self.tune(\n",
        "            num_topic_range=num_topic_range,\n",
        "            alpha_range=[alpha],\n",
        "            beta_range=[beta],\n",
        "            random_state=random_state,\n",
        "        )\n",
        "        data = [(i[\"num_topics\"], i[\"coherence_score\"]) for i in self.tuning_results_]\n",
        "        x, y = list(), list()\n",
        "        for k, cs in data:\n",
        "            x.append(k)\n",
        "            y.append(cs)\n",
        "        fig, ax = plt.subplots(figsize=(18, 6))\n",
        "        _ = ax.plot(x, y)\n",
        "        _ = ax.set_title(\"Optimal Number of Topics Grid Search\")\n",
        "        _ = ax.set_ylabel(\"Coherence Score\")\n",
        "        _ = ax.set_xlabel(\"Number of Topics\")\n",
        "        fig.show()\n",
        "\n",
        "    # Default set of hyperparameter values for hyperparameter tuning\n",
        "    num_topic_range = np.arange(2, 101, 10)\n",
        "    alpha_range = list(np.arange(0.0, 1.1, 0.25))\n",
        "    alpha_range.append(\"symmetric\")\n",
        "    alpha_range.append(\"asymmetric\")\n",
        "    beta_range = list(np.arange(0.0, 1.1, 0.25))\n",
        "    beta_range.append(\"symmetric\")\n",
        "\n",
        "    def tune(\n",
        "        self,\n",
        "        random_grid_search=False,\n",
        "        n=10,\n",
        "        num_topic_range=num_topic_range,\n",
        "        alpha_range=alpha_range,\n",
        "        beta_range=beta_range,\n",
        "        random_state=9,\n",
        "    ):\n",
        "        self.tuning_results_ = list()\n",
        "        for n_topic in num_topic_range:\n",
        "            for alpha in alpha_range:\n",
        "                for beta in beta_range:\n",
        "                    self.tuning_results_.append(\n",
        "                        {\"num_topics\": n_topic, \"alpha\": alpha, \"beta\": beta}\n",
        "                    )\n",
        "        if random_grid_search:\n",
        "            self.tuning_results_ = np.random.choice(self.tuning_results_, n, False)\n",
        "\n",
        "        self.best_coherence_score_ = -np.inf\n",
        "        idx_best_coherence_score = 0\n",
        "        progress_bar = tqdm(range(len(self.tuning_results_)), desc=\"tuning\")\n",
        "        for i in progress_bar:\n",
        "            coherence_score = self.fit(\n",
        "                **self.tuning_results_[i], tuning=True, random_state=random_state\n",
        "            )\n",
        "            if coherence_score > self.best_coherence_score_:\n",
        "                self.best_coherence_score_ = coherence_score\n",
        "                self.best_params_ = self.tuning_results_[i].copy()\n",
        "                idx_best_coherence_score = i\n",
        "            self.tuning_results_[i][\"coherence_score\"] = coherence_score\n",
        "            progress_bar.set_postfix(\n",
        "                {\n",
        "                    \"max_coherence_score\": self.best_coherence_score_,\n",
        "                    \"best_params\": str(self.best_params_),\n",
        "                }\n",
        "            )\n",
        "        else:\n",
        "            self.fit(**self.best_params_, random_state=random_state)\n",
        "            print(\"Finished hyperparameter tuning, model updated!\")\n",
        "\n",
        "    def predict(self, test_sample, return_predict_proba=False):\n",
        "        sample_data_type = type(test_sample)\n",
        "        if sample_data_type == str:\n",
        "            test_sample = [test_sample]\n",
        "        predict_proba, predictions = list(), list()\n",
        "        for doc in test_sample:\n",
        "            test_vector = self.model.id2word.doc2bow(doc.split())\n",
        "            test_topics = self.model[test_vector]\n",
        "            pred_proba = np.zeros(self.best_params_[\"num_topics\"])\n",
        "            for i, proba in test_topics:\n",
        "                pred_proba[i] = proba\n",
        "            predict_proba.append(pred_proba)\n",
        "            predictions.append(np.argmax(pred_proba))\n",
        "        else:\n",
        "            predict_proba = np.array(predict_proba)\n",
        "            predictions = np.array(predictions)\n",
        "        if sample_data_type == str:\n",
        "            predict_proba = predict_proba[0]\n",
        "            predictions = predictions[0]\n",
        "        if return_predict_proba:\n",
        "            return predict_proba, predictions\n",
        "        else:\n",
        "            return predictions\n",
        "\n",
        "    def generate_topic_word_cloud(self, topics=\"all\", topic_names=None):\n",
        "        assert (\n",
        "            hasattr(topics, \"__iter__\")\n",
        "            or topics.lower().strip() == \"all\"\n",
        "            or type(topics) == int\n",
        "        ), 'topics only accepts \"all\", an integer, or an iterable'\n",
        "        if type(topics) == int:\n",
        "            topics = [topics]\n",
        "        elif topics.lower().strip() == \"all\":\n",
        "            topics = np.unique(self.training_samples_prediction_)\n",
        "        z = [[i] for i in topics]\n",
        "\n",
        "        if topic_names != None:\n",
        "            assert (\n",
        "                hasattr(topic_names, \"__iter__\") or type(topic_names) == str\n",
        "            ), \"topic_names must be an a string, an iterable or None\"\n",
        "            if type(topic_names) == str:\n",
        "                assert (\n",
        "                    len(topics) == 1\n",
        "                ), \"Only accept integers for topics when topic_names data type is a string\"\n",
        "                topic_names = [topic_names]\n",
        "            else:\n",
        "                assert len(topics) == len(\n",
        "                    topic_names\n",
        "                ), \"topics and topic_names length must be the same.\"\n",
        "            z = zip(topics, topic_names)\n",
        "\n",
        "        for i in z:\n",
        "            samples = self.texts[self.training_samples_prediction_ == i[0]]\n",
        "            s = str(i[0]) if topic_names == None else i[1]\n",
        "            s = \"Topic: \" + s\n",
        "            wordcloud = WordCloud(\n",
        "                background_color=\"white\",\n",
        "                max_words=100,\n",
        "            ).generate(\"\\n\".join(list(samples)))\n",
        "            _ = plt.imshow(wordcloud, interpolation=\"bilinear\")\n",
        "            _ = plt.title(f\"Word Cloud ({s})\", fontweight=\"bold\", fontsize=30)\n",
        "            _ = plt.axis(\"off\")\n",
        "            plt.show()"
      ],
      "execution_count": null,
      "outputs": []
    },
    {
      "cell_type": "code",
      "metadata": {
        "id": "J30uTCV0HXWL"
      },
      "source": [
        "## Import Libraries\n",
        "\n",
        "import os\n",
        "import pickle\n",
        "import re\n",
        "import pandas as pd\n",
        "import numpy as np\n",
        "import plotly.express as px\n",
        "import warnings\n",
        "warnings.filterwarnings(\"ignore\")"
      ],
      "execution_count": null,
      "outputs": []
    },
    {
      "cell_type": "code",
      "metadata": {
        "id": "_gWpsouIHz0r"
      },
      "source": [
        "## Plotly renderer setup.\n",
        "import plotly.io as pio\n",
        "pio.renderers.default = 'iframe+colab+notebook'"
      ],
      "execution_count": null,
      "outputs": []
    },
    {
      "cell_type": "code",
      "metadata": {
        "colab": {
          "base_uri": "https://localhost:8080/"
        },
        "id": "ef3ThhkIIQpV",
        "outputId": "9816e986-bbc4-43e8-e4a2-98bf64e49fa5"
      },
      "source": [
        "## read data \n",
        "from google.colab import drive \n",
        "drive.mount('/content/gdrive')\n",
        "\n",
        "df = pd.read_csv('gdrive/My Drive/cleaned_data.csv')"
      ],
      "execution_count": null,
      "outputs": [
        {
          "output_type": "stream",
          "text": [
            "Mounted at /content/gdrive\n"
          ],
          "name": "stdout"
        }
      ]
    },
    {
      "cell_type": "code",
      "metadata": {
        "colab": {
          "base_uri": "https://localhost:8080/"
        },
        "id": "Xcvj4NAPIevp",
        "outputId": "c6d9208a-443c-4fff-bc00-30a732289827"
      },
      "source": [
        "df.info()"
      ],
      "execution_count": null,
      "outputs": [
        {
          "output_type": "stream",
          "text": [
            "<class 'pandas.core.frame.DataFrame'>\n",
            "RangeIndex: 696 entries, 0 to 695\n",
            "Data columns (total 8 columns):\n",
            " #   Column       Non-Null Count  Dtype  \n",
            "---  ------       --------------  -----  \n",
            " 0   Unnamed: 0   696 non-null    int64  \n",
            " 1   title        696 non-null    object \n",
            " 2   date         696 non-null    object \n",
            " 3   location     696 non-null    object \n",
            " 4   rating       696 non-null    float64\n",
            " 5   text         696 non-null    object \n",
            " 6   title_clean  552 non-null    object \n",
            " 7   text_clean   696 non-null    object \n",
            "dtypes: float64(1), int64(1), object(6)\n",
            "memory usage: 43.6+ KB\n"
          ],
          "name": "stdout"
        }
      ]
    },
    {
      "cell_type": "code",
      "metadata": {
        "id": "Xg9mtkWeIm1c"
      },
      "source": [
        "df = df.drop(columns=['Unnamed: 0'])"
      ],
      "execution_count": null,
      "outputs": []
    },
    {
      "cell_type": "markdown",
      "metadata": {
        "id": "oF9_K2c-IzJw"
      },
      "source": [
        "### LDA\n",
        "\n",
        "Initializing the model"
      ]
    },
    {
      "cell_type": "code",
      "metadata": {
        "id": "QeroR-oUI0oh"
      },
      "source": [
        "\n",
        "lda_model = LDA(df['text_clean'])"
      ],
      "execution_count": null,
      "outputs": []
    },
    {
      "cell_type": "code",
      "metadata": {
        "colab": {
          "base_uri": "https://localhost:8080/"
        },
        "id": "wGwXcnAHI4X1",
        "outputId": "9108a872-089c-492e-8ecb-5eeb2d59ce05"
      },
      "source": [
        "# sanity check on data\n",
        "it = iter(lda_model)\n",
        "it = next(it)\n",
        "it.insert(0, ('word', 'frequency'))\n",
        "it[:30]"
      ],
      "execution_count": null,
      "outputs": [
        {
          "output_type": "execute_result",
          "data": {
            "text/plain": [
              "[('word', 'frequency'),\n",
              " ('1', 1),\n",
              " ('2', 2),\n",
              " ('27k', 1),\n",
              " ('3', 1),\n",
              " ('4', 1),\n",
              " ('amazon', 2),\n",
              " ('background', 1),\n",
              " ('camera', 2),\n",
              " ('day', 1),\n",
              " ('delhi', 1),\n",
              " ('deliv', 1),\n",
              " ('deliveri', 1),\n",
              " ('differ', 3),\n",
              " ('don', 2),\n",
              " ('featur', 1),\n",
              " ('feel', 1),\n",
              " ('iphon', 1),\n",
              " ('kudo', 1),\n",
              " ('lcd', 1),\n",
              " ('lot', 1),\n",
              " ('lover', 1),\n",
              " ('make', 1),\n",
              " ('miss', 1),\n",
              " ('noida', 1),\n",
              " ('not', 1),\n",
              " ('notic', 2),\n",
              " ('ole', 1),\n",
              " ('pictur', 3),\n",
              " ('purchas', 2)]"
            ]
          },
          "metadata": {
            "tags": []
          },
          "execution_count": 14
        }
      ]
    },
    {
      "cell_type": "code",
      "metadata": {
        "colab": {
          "base_uri": "https://localhost:8080/"
        },
        "id": "X-_ebV_gJIzh",
        "outputId": "6cc18328-bcdd-4247-c674-7896f9cc964b"
      },
      "source": [
        "lda_model = LDA(df['text_clean'])\n",
        "lda_model.filter_extremes(keep_n=10000, no_below=10,  no_above = 0.3)\n",
        "# sanity check on dictionary size\n",
        "len(lda_model.dictionary)"
      ],
      "execution_count": null,
      "outputs": [
        {
          "output_type": "execute_result",
          "data": {
            "text/plain": [
              "114"
            ]
          },
          "metadata": {
            "tags": []
          },
          "execution_count": 15
        }
      ]
    },
    {
      "cell_type": "markdown",
      "metadata": {
        "id": "qJTiS05cJU3E"
      },
      "source": [
        "### Training & evaluating the mode"
      ]
    },
    {
      "cell_type": "code",
      "metadata": {
        "colab": {
          "base_uri": "https://localhost:8080/"
        },
        "id": "GUYSCPTTJQOT",
        "outputId": "4e1e6b11-0118-4322-a251-e989d8621089"
      },
      "source": [
        "lda_model.fit(3)\n",
        "## Evaluate the model\n",
        "lda_model.print_output()"
      ],
      "execution_count": null,
      "outputs": [
        {
          "output_type": "stream",
          "text": [
            "Topic: 0\tCoherence Score: 0.4494\n",
            "Words: 0.126*\"iphon\" + 0.055*\"batteri\" + 0.039*\"xr\" + 0.035*\"life\" + 0.030*\"camera\" + 0.027*\"perform\" + 0.026*\"price\" + 0.025*\"8\" + 0.023*\"xs\" + 0.020*\"x\"\n",
            "\n",
            "########\n",
            "\n",
            "Topic: 1\tCoherence Score: 0.4194\n",
            "Words: 0.042*\"product\" + 0.035*\"amazon\" + 0.033*\"batteri\" + 0.033*\"iphon\" + 0.030*\"screen\" + 0.029*\"price\" + 0.028*\"appl\" + 0.027*\"xr\" + 0.027*\"work\" + 0.022*\"1\"\n",
            "\n",
            "########\n",
            "\n",
            "Topic: 2\tCoherence Score: 0.4683\n",
            "Words: 0.064*\"product\" + 0.052*\"camera\" + 0.052*\"appl\" + 0.040*\"buy\" + 0.039*\"iphon\" + 0.038*\"qualiti\" + 0.024*\"batteri\" + 0.022*\"screen\" + 0.021*\"face\" + 0.021*\"get\"\n",
            "\n",
            "########\n",
            "\n",
            "Perplexity Score: -4.6475 \n",
            "Overall Coherence Score: 0.4457\n"
          ],
          "name": "stdout"
        }
      ]
    },
    {
      "cell_type": "code",
      "metadata": {
        "colab": {
          "base_uri": "https://localhost:8080/"
        },
        "id": "Juaxx7BJJYp7",
        "outputId": "b4819673-6a1e-43f7-ff1e-96be4a8520e0"
      },
      "source": [
        "lda_model.score(df.sample(500)['text_clean'].apply(lambda x: x.split()), return_per_topic=True)"
      ],
      "execution_count": null,
      "outputs": [
        {
          "output_type": "execute_result",
          "data": {
            "text/plain": [
              "(0.480491940079764,\n",
              " [0.47709312827645994, 0.44399944042284095, 0.520383251539991])"
            ]
          },
          "metadata": {
            "tags": []
          },
          "execution_count": 17
        }
      ]
    },
    {
      "cell_type": "markdown",
      "metadata": {
        "id": "Tn8ge0XcJlI9"
      },
      "source": [
        "### Visualizing training results"
      ]
    },
    {
      "cell_type": "code",
      "metadata": {
        "colab": {
          "base_uri": "https://localhost:8080/",
          "height": 861
        },
        "id": "J_LDuGsYJfQm",
        "outputId": "72da724c-369a-4987-e0ab-3b99d902ad42"
      },
      "source": [
        "lda_model.visualize_topics_"
      ],
      "execution_count": null,
      "outputs": [
        {
          "output_type": "execute_result",
          "data": {
            "text/html": [
              "\n",
              "<link rel=\"stylesheet\" type=\"text/css\" href=\"https://cdn.rawgit.com/bmabey/pyLDAvis/files/ldavis.v1.0.0.css\">\n",
              "\n",
              "\n",
              "<div id=\"ldavis_el611397234444022407031938132\"></div>\n",
              "<script type=\"text/javascript\">\n",
              "\n",
              "var ldavis_el611397234444022407031938132_data = {\"mdsDat\": {\"x\": [0.056975291783512315, 0.004825886191676354, -0.061801177975188706], \"y\": [0.030427073711364255, -0.05424252810348123, 0.02381545439211697], \"topics\": [1, 2, 3], \"cluster\": [1, 1, 1], \"Freq\": [35.14678481385533, 32.48586566638365, 32.36734951976102]}, \"tinfo\": {\"Term\": [\"iphon\", \"8\", \"product\", \"xs\", \"perform\", \"x\", \"awesom\", \"life\", \"1\", \"screen\", \"qualiti\", \"month\", \"buy\", \"look\", \"issu\", \"2\", \"7\", \"batteri\", \"10\", \"mobil\", \"work\", \"appl\", \"m\", \"purchas\", \"price\", \"camera\", \"like\", \"weight\", \"11\", \"amazon\", \"weight\", \"awesom\", \"class\", \"mobil\", \"11\", \"peopl\", \"go\", \"lcd\", \"receiv\", \"qualiti\", \"deal\", \"buy\", \"budget\", \"face\", \"valu\", \"provid\", \"pictur\", \"experi\", \"custom\", \"money\", \"app\", \"thank\", \"product\", \"user\", \"android\", \"appl\", \"want\", \"charger\", \"camera\", \"sale\", \"thing\", \"get\", \"screen\", \"like\", \"io\", \"iphon\", \"amazon\", \"life\", \"batteri\", \"xr\", \"day\", \"time\", \"love\", \"look\", \"price\", \"month\", \"m\", \"1\", \"10\", \"issu\", \"backup\", \"2\", \"purchas\", \"heat\", \"superb\", \"speaker\", \"3\", \"brand\", \"video\", \"work\", \"5\", \"t\", \"rang\", \"don\", \"love\", \"review\", \"screen\", \"7\", \"servic\", \"use\", \"support\", \"size\", \"amazon\", \"miss\", \"day\", \"price\", \"display\", \"product\", \"get\", \"batteri\", \"xr\", \"appl\", \"iphon\", \"camera\", \"qualiti\", \"buy\", \"io\", \"time\", \"8\", \"x\", \"xs\", \"model\", \"perform\", \"fingerprint\", \"iphon\", \"look\", \"life\", \"compar\", \"deliveri\", \"design\", \"need\", \"r\", \"s\", \"take\", \"order\", \"deliv\", \"charg\", \"batteri\", \"phone\", \"usag\", \"like\", \"7\", \"xr\", \"u\", \"6\", \"piec\", \"expect\", \"problem\", \"price\", \"time\", \"display\", \"camera\", \"work\", \"devic\", \"use\", \"appl\", \"amazon\", \"buy\", \"product\", \"day\", \"get\"], \"Freq\": [246.0, 36.0, 154.0, 37.0, 44.0, 30.0, 29.0, 76.0, 37.0, 72.0, 79.0, 26.0, 84.0, 37.0, 34.0, 38.0, 34.0, 139.0, 28.0, 27.0, 58.0, 126.0, 21.0, 31.0, 81.0, 133.0, 40.0, 11.0, 16.0, 88.0, 9.618674745237456, 23.99186364325428, 8.754031644953665, 21.079979945473546, 12.85613171501835, 9.42044322466477, 13.841066347725878, 8.912411351465659, 12.152374872852947, 50.50456660913518, 9.113905357936723, 52.62035909859869, 6.977785739550406, 28.60932858323891, 14.275443927519182, 10.6978667565984, 8.271651307429591, 14.233090522864677, 7.6966519656568755, 20.54876340010515, 9.254776410798312, 10.642235201771673, 85.02075210714327, 13.64883083098353, 14.07462833951853, 68.93114649531975, 8.744402319534544, 10.24892984513391, 69.6371779617534, 9.982105504240868, 12.69238233251433, 28.435846934304717, 29.123547459252713, 18.267702218034785, 16.375350014446173, 51.847810375483135, 26.544401355765228, 23.85053679736184, 31.36522564295126, 25.031039507012796, 16.480080710783998, 14.687054180326552, 13.995598168854974, 12.884787763937567, 14.225449323237267, 20.084673782404476, 16.366652043096014, 26.909781050870397, 19.26970240812568, 23.034577974298227, 7.207582352561494, 25.49534389586911, 20.46942495461021, 11.082321728483668, 8.465300724593938, 7.25837047023096, 19.924594459372702, 6.4029063937031925, 8.509738608022026, 33.15686167225084, 15.75212430232343, 25.156346049602874, 9.142411430966222, 9.354192516705888, 21.446371723305422, 10.24828532204162, 37.03127376378346, 17.595266177916212, 10.469618985077684, 16.90017603768857, 6.727949658974699, 7.687015580355708, 42.86195693324566, 8.941161336626214, 26.81609632424482, 36.01362680256079, 21.18090797319361, 51.84911978169697, 24.574288817881115, 41.01085476763173, 33.74596898802071, 34.640215404943824, 40.14922673957117, 26.709180366711404, 17.768681050172635, 15.952301981439534, 12.260755313853181, 12.704339724029133, 30.301090073079354, 24.408379945847685, 28.568788334230053, 8.19160217936537, 33.04310696866324, 7.695230374961587, 154.22264327399327, 22.61704385568566, 43.08382833903198, 10.396299227963102, 13.12736040056994, 6.011086645468277, 13.49631652997728, 5.941882957257504, 16.02031887857517, 12.96936475798322, 5.845015269008621, 8.163499013826357, 12.715853759925434, 67.0035981167864, 6.426139733135689, 8.79580367694633, 18.828817093133402, 15.605332036939105, 47.53056349662033, 5.421072649238378, 11.473639018799222, 5.112211949818244, 8.193298877288889, 9.888200162751685, 31.395755485458306, 17.224639747598644, 18.113646640010543, 36.84943031950244, 16.43527373936852, 11.542338437650699, 10.988148125043983, 23.22670836650674, 18.814052223353976, 16.313925858191464, 17.218903755022463, 12.575653171965735, 12.924698942434807], \"Total\": [246.0, 36.0, 154.0, 37.0, 44.0, 30.0, 29.0, 76.0, 37.0, 72.0, 79.0, 26.0, 84.0, 37.0, 34.0, 38.0, 34.0, 139.0, 28.0, 27.0, 58.0, 126.0, 21.0, 31.0, 81.0, 133.0, 40.0, 11.0, 16.0, 88.0, 11.263429258529563, 29.118814211918462, 11.321489821943022, 27.449583485183744, 16.9750846333038, 13.239997443133523, 19.911800745282022, 13.299626524964363, 18.160762574463096, 79.2366243373203, 14.33455988868122, 84.8865869382297, 11.389237260727247, 46.80042291444294, 23.85024507453893, 18.149956047888253, 14.427128250582847, 24.87462853643442, 13.453216390009915, 36.26705554875054, 16.374004462155362, 19.11444192839997, 154.0887756438627, 25.00340875449365, 25.857151217842734, 126.79807026677032, 16.29278221768318, 19.33237986205937, 133.19578864796725, 19.175230558817592, 24.83392030019145, 65.93483469462063, 72.30735228281132, 40.13158049387714, 36.756976734214135, 246.21968038904757, 88.22041051236485, 76.09540025279833, 139.37967852736938, 106.30757199165383, 55.87183020699455, 44.616033651954325, 41.16762180549995, 37.39678946355371, 81.63483161125637, 26.087718725658952, 21.991349892827504, 37.97183255940713, 28.972242742120603, 34.65061896731216, 10.974164663037122, 38.86526541432585, 31.841905338366274, 17.816469460644598, 13.814704400062318, 11.936777044607851, 33.65607446133593, 10.820809717760595, 14.776420785594436, 58.4341276700084, 28.49389337849615, 46.328667334316826, 16.836947554692074, 17.701452667030658, 41.16762180549995, 19.680690112018123, 72.30735228281132, 34.727350301657964, 20.697095057343624, 33.54749260238556, 13.702553296716072, 15.739567686058827, 88.22041051236485, 18.590153655625564, 55.87183020699455, 81.63483161125637, 49.10085919512936, 154.0887756438627, 65.93483469462063, 139.37967852736938, 106.30757199165383, 126.79807026677032, 246.21968038904757, 133.19578864796725, 79.2366243373203, 84.8865869382297, 36.756976734214135, 44.616033651954325, 36.05096863369775, 30.11820348159389, 37.08272426745987, 10.705443955265194, 44.66078652687454, 11.75341160308864, 246.21968038904757, 37.39678946355371, 76.09540025279833, 18.371226602776957, 24.571575951787622, 11.648605667775739, 26.46874233137303, 11.769323794129999, 31.953977168848198, 26.10585344484501, 11.84678051723319, 16.679949342810666, 26.344447814414085, 139.37967852736938, 13.516519993143586, 18.64684055483057, 40.13158049387714, 34.727350301657964, 106.30757199165383, 12.395230789961929, 27.446656990370812, 12.681939571107396, 20.391505129938512, 25.11308595722405, 81.63483161125637, 44.616033651954325, 49.10085919512936, 133.19578864796725, 58.4341276700084, 34.93601670479923, 33.54749260238556, 126.79807026677032, 88.22041051236485, 84.8865869382297, 154.0887756438627, 55.87183020699455, 65.93483469462063], \"Category\": [\"Default\", \"Default\", \"Default\", \"Default\", \"Default\", \"Default\", \"Default\", \"Default\", \"Default\", \"Default\", \"Default\", \"Default\", \"Default\", \"Default\", \"Default\", \"Default\", \"Default\", \"Default\", \"Default\", \"Default\", \"Default\", \"Default\", \"Default\", \"Default\", \"Default\", \"Default\", \"Default\", \"Default\", \"Default\", \"Default\", \"Topic1\", \"Topic1\", \"Topic1\", \"Topic1\", \"Topic1\", \"Topic1\", \"Topic1\", \"Topic1\", \"Topic1\", \"Topic1\", \"Topic1\", \"Topic1\", \"Topic1\", \"Topic1\", \"Topic1\", \"Topic1\", \"Topic1\", \"Topic1\", \"Topic1\", \"Topic1\", \"Topic1\", \"Topic1\", \"Topic1\", \"Topic1\", \"Topic1\", \"Topic1\", \"Topic1\", \"Topic1\", \"Topic1\", \"Topic1\", \"Topic1\", \"Topic1\", \"Topic1\", \"Topic1\", \"Topic1\", \"Topic1\", \"Topic1\", \"Topic1\", \"Topic1\", \"Topic1\", \"Topic1\", \"Topic1\", \"Topic1\", \"Topic1\", \"Topic1\", \"Topic2\", \"Topic2\", \"Topic2\", \"Topic2\", \"Topic2\", \"Topic2\", \"Topic2\", \"Topic2\", \"Topic2\", \"Topic2\", \"Topic2\", \"Topic2\", \"Topic2\", \"Topic2\", \"Topic2\", \"Topic2\", \"Topic2\", \"Topic2\", \"Topic2\", \"Topic2\", \"Topic2\", \"Topic2\", \"Topic2\", \"Topic2\", \"Topic2\", \"Topic2\", \"Topic2\", \"Topic2\", \"Topic2\", \"Topic2\", \"Topic2\", \"Topic2\", \"Topic2\", \"Topic2\", \"Topic2\", \"Topic2\", \"Topic2\", \"Topic2\", \"Topic2\", \"Topic2\", \"Topic2\", \"Topic2\", \"Topic2\", \"Topic3\", \"Topic3\", \"Topic3\", \"Topic3\", \"Topic3\", \"Topic3\", \"Topic3\", \"Topic3\", \"Topic3\", \"Topic3\", \"Topic3\", \"Topic3\", \"Topic3\", \"Topic3\", \"Topic3\", \"Topic3\", \"Topic3\", \"Topic3\", \"Topic3\", \"Topic3\", \"Topic3\", \"Topic3\", \"Topic3\", \"Topic3\", \"Topic3\", \"Topic3\", \"Topic3\", \"Topic3\", \"Topic3\", \"Topic3\", \"Topic3\", \"Topic3\", \"Topic3\", \"Topic3\", \"Topic3\", \"Topic3\", \"Topic3\", \"Topic3\", \"Topic3\", \"Topic3\", \"Topic3\", \"Topic3\", \"Topic3\"], \"logprob\": [30.0, 29.0, 28.0, 27.0, 26.0, 25.0, 24.0, 23.0, 22.0, 21.0, 20.0, 19.0, 18.0, 17.0, 16.0, 15.0, 14.0, 13.0, 12.0, 11.0, 10.0, 9.0, 8.0, 7.0, 6.0, 5.0, 4.0, 3.0, 2.0, 1.0, -4.930500030517578, -4.016499996185303, -5.024700164794922, -4.145899772644043, -4.640399932861328, -4.951300144195557, -4.5665998458862305, -5.006800174713135, -4.696700096130371, -3.272200107574463, -4.984399795532227, -3.231100082397461, -5.251500129699707, -3.8405001163482666, -4.535699844360352, -4.82420015335083, -5.081399917602539, -4.538700103759766, -5.15339994430542, -4.17140007019043, -4.969099998474121, -4.829400062561035, -2.751300096511841, -4.580599784851074, -4.549799919128418, -2.9611001014709473, -5.0258002281188965, -4.867000102996826, -2.950900077819824, -4.893400192260742, -4.653200149536133, -3.84660005569458, -3.822700023651123, -4.289100170135498, -4.398399829864502, -3.2458999156951904, -3.9154000282287598, -4.02239990234375, -3.748500108718872, -3.974100112915039, -4.392099857330322, -4.507299900054932, -4.555500030517578, -4.638199806213379, -4.5391998291015625, -4.115499973297119, -4.320199966430664, -3.822999954223633, -4.1570000648498535, -3.9784998893737793, -5.140399932861328, -3.877000093460083, -4.09660005569458, -4.710100173950195, -4.979499816894531, -5.133299827575684, -4.123499870300293, -5.258699893951416, -4.974299907684326, -3.6142001152038574, -4.358500003814697, -3.890399932861328, -4.902599811553955, -4.879700183868408, -4.049900054931641, -4.788400173187256, -3.503700017929077, -4.247900009155273, -4.767000198364258, -4.2881999015808105, -5.209199905395508, -5.076000213623047, -3.3575000762939453, -4.924799919128418, -3.8264999389648438, -3.531599998474121, -4.062399864196777, -3.1672000885009766, -3.913800001144409, -3.401700019836426, -3.59660005569458, -3.570499897003174, -3.4228999614715576, -3.8304998874664307, -4.238100051879883, -4.345900058746338, -4.609099864959717, -4.573500156402588, -3.700700044631958, -3.9168999195098877, -3.759500026702881, -5.008699893951416, -3.614000082015991, -5.071199893951416, -2.0734000205993652, -3.9930999279022217, -3.3487000465393066, -4.770400047302246, -4.537099838256836, -5.31820011138916, -4.509399890899658, -5.329800128936768, -4.3379998207092285, -4.549200057983398, -5.346199989318848, -5.012199878692627, -4.568999767303467, -2.907099962234497, -5.251500129699707, -4.937600135803223, -4.176400184631348, -4.364200115203857, -3.250499963760376, -5.421500205993652, -4.671800136566162, -5.480199813842773, -5.008500099182129, -4.820499897003174, -3.6651999950408936, -4.265500068664551, -4.215199947357178, -3.505000114440918, -4.312399864196777, -4.665800094604492, -4.715000152587891, -3.9665000438690186, -4.177199840545654, -4.319799900054932, -4.2657999992370605, -4.580100059509277, -4.552700042724609], \"loglift\": [30.0, 29.0, 28.0, 27.0, 26.0, 25.0, 24.0, 23.0, 22.0, 21.0, 20.0, 19.0, 18.0, 17.0, 16.0, 15.0, 14.0, 13.0, 12.0, 11.0, 10.0, 9.0, 8.0, 7.0, 6.0, 5.0, 4.0, 3.0, 2.0, 1.0, 0.8878, 0.852, 0.7884, 0.7816, 0.7677, 0.7053, 0.682, 0.6453, 0.6439, 0.5953, 0.5928, 0.5674, 0.5557, 0.5535, 0.5324, 0.517, 0.4894, 0.4874, 0.4872, 0.4775, 0.4751, 0.46, 0.451, 0.4403, 0.4374, 0.4361, 0.4233, 0.411, 0.3971, 0.3928, 0.3744, 0.2046, 0.1363, 0.2586, 0.2371, -0.5123, -0.1554, -0.1145, -0.4459, -0.4006, -0.1753, -0.0655, -0.0333, -0.0199, -0.7016, 0.8629, 0.829, 0.78, 0.7166, 0.716, 0.704, 0.7028, 0.6825, 0.6496, 0.6346, 0.6269, 0.6001, 0.5996, 0.5725, 0.5577, 0.5317, 0.5137, 0.5137, 0.4865, 0.4723, 0.4718, 0.4552, 0.4445, 0.4428, 0.4387, 0.4131, 0.4077, 0.4025, 0.3924, 0.3903, 0.306, 0.2836, 0.0352, 0.1374, -0.099, -0.0231, -0.1732, -0.6893, -0.4824, -0.3706, -0.5473, 0.0264, -0.1318, 0.9543, 0.9178, 0.8672, 0.8604, 0.8267, 0.7045, 0.6602, 0.6251, 0.5592, 0.5587, 0.5011, 0.4664, 0.4545, 0.4445, 0.4376, 0.4285, 0.4216, 0.4135, 0.3996, 0.3956, 0.3845, 0.3766, 0.3712, 0.3281, 0.3231, 0.301, 0.2558, 0.2195, 0.2162, 0.196, 0.1724, 0.1763, 0.1308, -0.157, -0.1405, 0.0205, 0.0119, -0.5693, -0.4172, -0.5213, -1.0635, -0.3633, -0.5015]}, \"token.table\": {\"Topic\": [1, 2, 3, 1, 2, 3, 1, 2, 3, 1, 2, 3, 1, 2, 3, 1, 2, 3, 1, 2, 3, 1, 2, 3, 1, 2, 3, 1, 2, 3, 1, 2, 3, 1, 2, 3, 1, 2, 3, 1, 2, 3, 1, 2, 3, 1, 2, 3, 1, 2, 3, 1, 2, 3, 1, 2, 3, 1, 2, 3, 1, 2, 3, 1, 2, 3, 1, 2, 3, 1, 2, 3, 1, 2, 3, 1, 2, 3, 1, 2, 3, 1, 2, 3, 1, 2, 3, 1, 2, 3, 1, 2, 3, 1, 2, 3, 1, 2, 3, 1, 2, 3, 1, 2, 3, 1, 2, 3, 1, 2, 3, 1, 2, 3, 1, 2, 3, 1, 2, 3, 1, 2, 3, 1, 2, 3, 1, 2, 3, 1, 2, 3, 1, 2, 3, 1, 2, 3, 1, 2, 3, 1, 2, 3, 1, 2, 3, 1, 2, 3, 1, 2, 3, 1, 2, 3, 1, 2, 3, 1, 2, 3, 1, 2, 3, 1, 2, 3, 1, 2, 3, 1, 2, 3, 1, 2, 3, 1, 2, 3, 1, 2, 3, 1, 2, 3, 1, 2, 3, 1, 2, 3, 1, 2, 3, 1, 2, 3, 1, 2, 3, 1, 2, 3, 1, 2, 3, 1, 2, 3, 1, 2, 3, 1, 2, 3, 1, 2, 3, 1, 2, 3, 1, 2, 3, 1, 2, 3, 1, 2, 3, 1, 2, 3, 1, 2, 3, 1, 2, 3, 1, 2, 3, 1, 2, 3, 1, 2, 3, 1, 2, 3, 1, 2, 3, 1, 2, 3, 1, 2, 3, 1, 2, 3, 1, 2, 3, 1, 2, 3, 1, 2, 3, 1, 2, 3, 1, 2, 3, 1, 2, 3, 1, 2, 3, 1, 2, 3], \"Freq\": [0.10534124192562945, 0.7110533829979988, 0.18434717336985154, 0.0690315906090469, 0.6558001107859456, 0.2761263624361876, 0.7658282878009932, 0.058909868292384086, 0.17672960487715228, 0.10291966251504328, 0.6432478907190206, 0.23156924065884738, 0.1782739103127667, 0.5942463677092223, 0.2079862286982278, 0.3158571515815436, 0.5615238250338553, 0.14038095625846383, 0.18217154831476068, 0.4007774062924735, 0.4007774062924735, 0.057591494387768345, 0.5183234494899152, 0.46073195510214676, 0.05547701145900833, 0.11095402291801666, 0.832155171885125, 0.30605162505127675, 0.4874155510075889, 0.21536966207312067, 0.5414362890193137, 0.1933701032211835, 0.2320441238654202, 0.5496517373499789, 0.36643449156665253, 0.06107241526110876, 0.5441723194590499, 0.27602943740676444, 0.18139077315301663, 0.8242093865957183, 0.0343420577748216, 0.1373682310992864, 0.09112310874723543, 0.6378617612306481, 0.2733693262417063, 0.22241405868871097, 0.2941605292334564, 0.48070135264979463, 0.36965810362921847, 0.5544871554438277, 0.09241452590730462, 0.614615346028275, 0.08780219228975357, 0.3512087691590143, 0.6243624807128487, 0.18848678663029397, 0.18848678663029397, 0.5255421414637068, 0.20270911170742978, 0.2777865604879593, 0.2277519742401723, 0.3036692989868964, 0.49346261085370663, 0.5172668896096663, 0.41381351168773306, 0.05172668896096663, 0.7949483806059191, 0.08832759784510212, 0.17665519569020424, 0.2721647339129882, 0.1632988403477929, 0.5443294678259764, 0.594653335535481, 0.2973266677677405, 0.14866333388387026, 0.2863697133371688, 0.4832488912564724, 0.23267539208644966, 0.627853249063233, 0.279045888472548, 0.139522944236274, 0.11990444088860697, 0.3597133226658209, 0.47961776355442787, 0.12209229094162945, 0.36627687282488836, 0.5290665940803942, 0.2575415535182109, 0.2575415535182109, 0.5150831070364218, 0.343485065896237, 0.3148613104048839, 0.343485065896237, 0.20366242391522074, 0.42769109022196355, 0.36659236304739734, 0.2824626935456325, 0.5084328483821385, 0.225970154836506, 0.2942401731391023, 0.2942401731391023, 0.39232023085213635, 0.5628224750972216, 0.20100802682043628, 0.20100802682043628, 0.6196525200854627, 0.21367328278809056, 0.17093862623047246, 0.0850816795812046, 0.2552450387436138, 0.6806534366496368, 0.42466171530850005, 0.37916224581116076, 0.1971643678218036, 0.7031006476557482, 0.15066442449766032, 0.20088589933021378, 0.22451137184253792, 0.6174062725669792, 0.16838352888190342, 0.43529151256628995, 0.32646863442471746, 0.21764575628314498, 0.21119351596036384, 0.1624565507387414, 0.6254577203441545, 0.25973561997522165, 0.6637688066033443, 0.05771902666116037, 0.6767107319221595, 0.15038016264936876, 0.15038016264936876, 0.3153935707055753, 0.11827258901459073, 0.5650801475141557, 0.4485245728796117, 0.07475409547993528, 0.4734426047062568, 0.3476234240019343, 0.05348052676952835, 0.6150260578495761, 0.3400730813682712, 0.5101096220524068, 0.14574560630068767, 0.13641727381994193, 0.7275587937063569, 0.13641727381994193, 0.3227515012058193, 0.48412725180872895, 0.16137575060290965, 0.7650389307850523, 0.1457217011019147, 0.07286085055095735, 0.09341041849162883, 0.18682083698325766, 0.7472833479330306, 0.579037908709506, 0.16543940248843028, 0.2757323374807172, 0.07666442669948259, 0.7666442669948259, 0.15332885339896518, 0.15112164945059955, 0.340023711263849, 0.49114536071444853, 0.0844111189994047, 0.4220555949970235, 0.5064667139964282, 0.6797584394298766, 0.0755287154922085, 0.22658614647662553, 0.13434604418329069, 0.13434604418329069, 0.7389032430080987, 0.3699177008975912, 0.2219506205385547, 0.4439012410771094, 0.5545109089660172, 0.34656931810376074, 0.06931386362075215, 0.23655687548257556, 0.31540916731010077, 0.39426145913762595, 0.1714954232608423, 0.4409882312421659, 0.3797398657918651, 0.35837889518357074, 0.23891926345571382, 0.3981987724261897, 0.551630056406289, 0.3374677992132592, 0.11032601128125781, 0.6060620737029195, 0.22038620861924346, 0.22038620861924346, 0.12562062343613606, 0.6281031171806802, 0.2198360910132381, 0.6436417556468153, 0.22716767846358185, 0.13882469239441111, 0.1699332973571097, 0.3398665947142194, 0.5097998920713291, 0.11878637701420205, 0.5345386965639092, 0.35635913104260614, 0.6607652046987221, 0.2753188352911342, 0.055063767058226847, 0.2540561317484859, 0.5081122634969718, 0.2540561317484859, 0.28165508013112256, 0.21906506232420644, 0.500720142455329, 0.521506115367232, 0.2086024461468928, 0.260753057683616, 0.4010657157874358, 0.5117045339356939, 0.0829791136111936, 0.1932638367325246, 0.4831595918313115, 0.2898957550987869, 0.19060243965005605, 0.5082731724001495, 0.31767073275009344, 0.08377470704721973, 0.5864229493305381, 0.3350988281888789, 0.28954655012248803, 0.5790931002449761, 0.07238663753062201, 0.36489549733758675, 0.5108536962726214, 0.1459581989350347, 0.2374339827351783, 0.5396226880344961, 0.21584907521379845, 0.3064446836377885, 0.1915279272736178, 0.4979726109114063, 0.5754810965030768, 0.15694938995538457, 0.26158231659230763, 0.5234775598397882, 0.12080251380918187, 0.36240754142754567, 0.3362020056962852, 0.29137507160344717, 0.3810289397891232, 0.48405714275679323, 0.08067619045946553, 0.4033809522973277, 0.1608851639600057, 0.37539871590668, 0.48265549188001716, 0.17885092251494647, 0.506744280459015, 0.32789335794406854, 0.559923654309091, 0.2799618271545455, 0.15997818694545457, 0.5869960646628972, 0.16771316133225636, 0.20964145166532044, 0.27070154931562374, 0.6090784859601535, 0.13535077465781187, 0.5523918431949552, 0.2455074858644245, 0.2455074858644245, 0.8878290767820295, 0.08878290767820295, 0.08878290767820295, 0.15401958339868047, 0.5647384724618283, 0.27381259270876523, 0.09960753475330582, 0.09960753475330582, 0.7968602780264465, 0.23516669162534104, 0.3198267006104638, 0.4515200479206548, 0.053933470086365856, 0.16180041025909758, 0.7820353162523049], \"Term\": [\"1\", \"1\", \"1\", \"10\", \"10\", \"10\", \"11\", \"11\", \"11\", \"2\", \"2\", \"2\", \"3\", \"3\", \"3\", \"5\", \"5\", \"5\", \"6\", \"6\", \"6\", \"7\", \"7\", \"7\", \"8\", \"8\", \"8\", \"amazon\", \"amazon\", \"amazon\", \"android\", \"android\", \"android\", \"app\", \"app\", \"app\", \"appl\", \"appl\", \"appl\", \"awesom\", \"awesom\", \"awesom\", \"backup\", \"backup\", \"backup\", \"batteri\", \"batteri\", \"batteri\", \"brand\", \"brand\", \"brand\", \"budget\", \"budget\", \"budget\", \"buy\", \"buy\", \"buy\", \"camera\", \"camera\", \"camera\", \"charg\", \"charg\", \"charg\", \"charger\", \"charger\", \"charger\", \"class\", \"class\", \"class\", \"compar\", \"compar\", \"compar\", \"custom\", \"custom\", \"custom\", \"day\", \"day\", \"day\", \"deal\", \"deal\", \"deal\", \"deliv\", \"deliv\", \"deliv\", \"deliveri\", \"deliveri\", \"deliveri\", \"design\", \"design\", \"design\", \"devic\", \"devic\", \"devic\", \"display\", \"display\", \"display\", \"don\", \"don\", \"don\", \"expect\", \"expect\", \"expect\", \"experi\", \"experi\", \"experi\", \"face\", \"face\", \"face\", \"fingerprint\", \"fingerprint\", \"fingerprint\", \"get\", \"get\", \"get\", \"go\", \"go\", \"go\", \"heat\", \"heat\", \"heat\", \"io\", \"io\", \"io\", \"iphon\", \"iphon\", \"iphon\", \"issu\", \"issu\", \"issu\", \"lcd\", \"lcd\", \"lcd\", \"life\", \"life\", \"life\", \"like\", \"like\", \"like\", \"look\", \"look\", \"look\", \"love\", \"love\", \"love\", \"m\", \"m\", \"m\", \"miss\", \"miss\", \"miss\", \"mobil\", \"mobil\", \"mobil\", \"model\", \"model\", \"model\", \"money\", \"money\", \"money\", \"month\", \"month\", \"month\", \"need\", \"need\", \"need\", \"order\", \"order\", \"order\", \"peopl\", \"peopl\", \"peopl\", \"perform\", \"perform\", \"perform\", \"phone\", \"phone\", \"phone\", \"pictur\", \"pictur\", \"pictur\", \"piec\", \"piec\", \"piec\", \"price\", \"price\", \"price\", \"problem\", \"problem\", \"problem\", \"product\", \"product\", \"product\", \"provid\", \"provid\", \"provid\", \"purchas\", \"purchas\", \"purchas\", \"qualiti\", \"qualiti\", \"qualiti\", \"r\", \"r\", \"r\", \"rang\", \"rang\", \"rang\", \"receiv\", \"receiv\", \"receiv\", \"review\", \"review\", \"review\", \"s\", \"s\", \"s\", \"sale\", \"sale\", \"sale\", \"screen\", \"screen\", \"screen\", \"servic\", \"servic\", \"servic\", \"size\", \"size\", \"size\", \"speaker\", \"speaker\", \"speaker\", \"superb\", \"superb\", \"superb\", \"support\", \"support\", \"support\", \"t\", \"t\", \"t\", \"take\", \"take\", \"take\", \"thank\", \"thank\", \"thank\", \"thing\", \"thing\", \"thing\", \"time\", \"time\", \"time\", \"u\", \"u\", \"u\", \"usag\", \"usag\", \"usag\", \"use\", \"use\", \"use\", \"user\", \"user\", \"user\", \"valu\", \"valu\", \"valu\", \"video\", \"video\", \"video\", \"want\", \"want\", \"want\", \"weight\", \"weight\", \"weight\", \"work\", \"work\", \"work\", \"x\", \"x\", \"x\", \"xr\", \"xr\", \"xr\", \"xs\", \"xs\", \"xs\"]}, \"R\": 30, \"lambda.step\": 0.01, \"plot.opts\": {\"xlab\": \"PC1\", \"ylab\": \"PC2\"}, \"topic.order\": [3, 2, 1]};\n",
              "\n",
              "function LDAvis_load_lib(url, callback){\n",
              "  var s = document.createElement('script');\n",
              "  s.src = url;\n",
              "  s.async = true;\n",
              "  s.onreadystatechange = s.onload = callback;\n",
              "  s.onerror = function(){console.warn(\"failed to load library \" + url);};\n",
              "  document.getElementsByTagName(\"head\")[0].appendChild(s);\n",
              "}\n",
              "\n",
              "if(typeof(LDAvis) !== \"undefined\"){\n",
              "   // already loaded: just create the visualization\n",
              "   !function(LDAvis){\n",
              "       new LDAvis(\"#\" + \"ldavis_el611397234444022407031938132\", ldavis_el611397234444022407031938132_data);\n",
              "   }(LDAvis);\n",
              "}else if(typeof define === \"function\" && define.amd){\n",
              "   // require.js is available: use it to load d3/LDAvis\n",
              "   require.config({paths: {d3: \"https://cdnjs.cloudflare.com/ajax/libs/d3/3.5.5/d3.min\"}});\n",
              "   require([\"d3\"], function(d3){\n",
              "      window.d3 = d3;\n",
              "      LDAvis_load_lib(\"https://cdn.rawgit.com/bmabey/pyLDAvis/files/ldavis.v1.0.0.js\", function(){\n",
              "        new LDAvis(\"#\" + \"ldavis_el611397234444022407031938132\", ldavis_el611397234444022407031938132_data);\n",
              "      });\n",
              "    });\n",
              "}else{\n",
              "    // require.js not available: dynamically load d3 & LDAvis\n",
              "    LDAvis_load_lib(\"https://cdnjs.cloudflare.com/ajax/libs/d3/3.5.5/d3.min.js\", function(){\n",
              "         LDAvis_load_lib(\"https://cdn.rawgit.com/bmabey/pyLDAvis/files/ldavis.v1.0.0.js\", function(){\n",
              "                 new LDAvis(\"#\" + \"ldavis_el611397234444022407031938132\", ldavis_el611397234444022407031938132_data);\n",
              "            })\n",
              "         });\n",
              "}\n",
              "</script>"
            ],
            "text/plain": [
              "<IPython.core.display.HTML object>"
            ]
          },
          "metadata": {
            "tags": []
          },
          "execution_count": 18
        }
      ]
    },
    {
      "cell_type": "markdown",
      "metadata": {
        "id": "8jxQe4frJtWZ"
      },
      "source": [
        "\n",
        "### Hyperparameter tuning"
      ]
    },
    {
      "cell_type": "code",
      "metadata": {
        "colab": {
          "base_uri": "https://localhost:8080/",
          "height": 434
        },
        "id": "6oEmAFZ4Jowx",
        "outputId": "4fc8891f-5f87-4737-ba8e-e03946c1ef0d"
      },
      "source": [
        "lda_model.find_best_num_topics()"
      ],
      "execution_count": null,
      "outputs": [
        {
          "output_type": "stream",
          "text": [
            "tuning: 100%|██████████| 39/39 [01:35<00:00,  2.45s/it, max_coherence_score=0.468, best_params={'num_topics': 2, 'alpha': 'symmetric', 'beta': 'symmetric'}]\n"
          ],
          "name": "stderr"
        },
        {
          "output_type": "stream",
          "text": [
            "Finished hyperparameter tuning, model updated!\n"
          ],
          "name": "stdout"
        },
        {
          "output_type": "display_data",
          "data": {
            "image/png": "[encoded data removed]",
            "text/plain": [
              "<Figure size 1296x432 with 1 Axes>"
            ]
          },
          "metadata": {
            "tags": []
          }
        }
      ]
    },
    {
      "cell_type": "code",
      "metadata": {
        "colab": {
          "base_uri": "https://localhost:8080/"
        },
        "id": "TBfTrx_qJyQC",
        "outputId": "f9e40192-7a34-4ea3-d089-95f72ff71db3"
      },
      "source": [
        "num_topic_range = range(2, 11)\n",
        "alpha_range = list(np.arange(0.0, 1.01, 0.1))\n",
        "alpha_range.append(\"symmetric\")\n",
        "alpha_range.append(\"asymmetric\")\n",
        "beta_range = list(np.arange(0.0, 1.01, 0.1))\n",
        "beta_range.append(\"symmetric\")\n",
        "\n",
        "lda_model.tune(num_topic_range=num_topic_range, alpha_range=alpha_range, beta_range=beta_range)"
      ],
      "execution_count": null,
      "outputs": [
        {
          "output_type": "stream",
          "text": [
            "tuning: 100%|██████████| 1404/1404 [35:53<00:00,  1.53s/it, max_coherence_score=0.499, best_params={'num_topics': 2, 'alpha': 'asymmetric', 'beta': 0.0}]\n"
          ],
          "name": "stderr"
        },
        {
          "output_type": "stream",
          "text": [
            "Finished hyperparameter tuning, model updated!\n"
          ],
          "name": "stdout"
        }
      ]
    },
    {
      "cell_type": "code",
      "metadata": {
        "colab": {
          "base_uri": "https://localhost:8080/"
        },
        "id": "8FZIDhTQKMqk",
        "outputId": "5284b57c-dc4d-49a5-ae20-5683aa2d883c"
      },
      "source": [
        "lda_model.fit(**lda_model.best_params_, predict_training_samples=True)\n",
        "\n",
        "lda_model.print_output()"
      ],
      "execution_count": null,
      "outputs": [
        {
          "output_type": "stream",
          "text": [
            "Topic: 0\tCoherence Score: 0.4381\n",
            "Words: 0.081*\"iphon\" + 0.048*\"product\" + 0.042*\"batteri\" + 0.041*\"camera\" + 0.036*\"appl\" + 0.029*\"xr\" + 0.026*\"life\" + 0.025*\"buy\" + 0.023*\"price\" + 0.023*\"amazon\"\n",
            "\n",
            "########\n",
            "\n",
            "Topic: 1\tCoherence Score: 0.5590\n",
            "Words: 0.040*\"screen\" + 0.032*\"iphon\" + 0.032*\"appl\" + 0.028*\"product\" + 0.027*\"xr\" + 0.027*\"batteri\" + 0.026*\"camera\" + 0.025*\"amazon\" + 0.025*\"issu\" + 0.023*\"2\"\n",
            "\n",
            "########\n",
            "\n",
            "Perplexity Score: nan \n",
            "Overall Coherence Score: 0.4986\n"
          ],
          "name": "stdout"
        }
      ]
    },
    {
      "cell_type": "code",
      "metadata": {
        "colab": {
          "base_uri": "https://localhost:8080/"
        },
        "id": "E3bGfxxfSovY",
        "outputId": "86c0fb19-4981-479e-edb0-3e853d7a44ee"
      },
      "source": [
        "topic_names = [\n",
        "    \"Apple/iPhone's product pricing, battery, camera, and quality\", #\n",
        "    \"Amazon's Product? (Unclear)\",\n",
        "    \"Battery life, camera, quality, display\", #\n",
        "    \"Satisfaction of switching from android to iPhone\", #\n",
        "    \"iPhone XR's camera, battery, screen, quality, etc.\", #\n",
        "    \"Something about iPhone and/or Amazon (Unclear)\", #\n",
        "    \"Comparing iPhone With other phones and/or very detailed reviews\" #\n",
        "]\n",
        "\n",
        "\n",
        "topics = '''\n",
        "Topic: 0\tCoherence Score: 0.4498\n",
        "Words: 0.103*\"product\" + 0.060*\"iphon\" + 0.037*\"appl\" + 0.037*\"price\" + 0.035*\"batteri\" + 0.031*\"camera\" + 0.029*\"qualiti\" + 0.022*\"xr\" + 0.017*\"life\" + 0.015*\"superb\"\n",
        "\n",
        "########\n",
        "\n",
        "Topic: 1\tCoherence Score: 0.3734\n",
        "Words: 0.059*\"product\" + 0.059*\"amazon\" + 0.052*\"love\" + 0.049*\"buy\" + 0.047*\"money\" + 0.033*\"valu\" + 0.027*\"mobil\" + 0.026*\"thank\" + 0.017*\"experi\" + 0.016*\"iphon\"\n",
        "\n",
        "########\n",
        "\n",
        "Topic: 2\tCoherence Score: 0.5568\n",
        "Words: 0.121*\"batteri\" + 0.085*\"life\" + 0.048*\"camera\" + 0.028*\"work\" + 0.025*\"face\" + 0.022*\"qualiti\" + 0.020*\"iphon\" + 0.015*\"display\" + 0.013*\"d\" + 0.013*\"perform\"\n",
        "\n",
        "########\n",
        "\n",
        "Topic: 3\tCoherence Score: 0.6137\n",
        "Words: 0.042*\"👍\" + 0.032*\"appl\" + 0.023*\"iphon\" + 0.023*\"👌\" + 0.021*\"android\" + 0.019*\"io\" + 0.018*\"user\" + 0.018*\"like\" + 0.015*\"batteri\" + 0.013*\"time\"\n",
        "\n",
        "########\n",
        "\n",
        "Topic: 4\tCoherence Score: 0.5056\n",
        "Words: 0.055*\"camera\" + 0.041*\"iphon\" + 0.036*\"qualiti\" + 0.031*\"xr\" + 0.018*\"batteri\" + 0.017*\"screen\" + 0.016*\"get\" + 0.016*\"buy\" + 0.015*\"work\" + 0.015*\"appl\"\n",
        "\n",
        "########\n",
        "\n",
        "Topic: 5\tCoherence Score: 0.3642\n",
        "Words: 0.039*\"s\" + 0.032*\"️\" + 0.031*\"expect\" + 0.030*\"appl\" + 0.028*\"iphon\" + 0.023*\"deliveri\" + 0.022*\"❤\" + 0.021*\"time\" + 0.018*\"amazon\" + 0.015*\"like\"\n",
        "\n",
        "########\n",
        "\n",
        "Topic: 6\tCoherence Score: 0.7580\n",
        "Words: 0.048*\"iphon\" + 0.021*\"t\" + 0.020*\"xr\" + 0.016*\"face\" + 0.014*\"3\" + 0.014*\"appl\" + 0.014*\"day\" + 0.014*\"7\" + 0.013*\"6\" + 0.013*\"2\"\n",
        "'''\n",
        "\n",
        "topics = re.findall('(Topic: \\d|Words:.*)', topics)\n",
        "\n",
        "assert len(topics) / 2 == len(topic_names), \"Number of given names doesn't match number of topics!\"\n",
        "\n",
        "topics = {k:', '.join(re.findall('\"\\w+\"', topics[i + 1])) for k, i in zip(topic_names, range(0, len(topics), 2))}\n",
        "\n",
        "for k, v in topics.items():\n",
        "    print('topic:', k)\n",
        "    print('words:', v, end='\\n*****\\n\\n')"
      ],
      "execution_count": null,
      "outputs": [
        {
          "output_type": "stream",
          "text": [
            "topic: Apple/iPhone's product pricing, battery, camera, and quality\n",
            "words: \"product\", \"iphon\", \"appl\", \"price\", \"batteri\", \"camera\", \"qualiti\", \"xr\", \"life\", \"superb\"\n",
            "*****\n",
            "\n",
            "topic: Amazon's Product? (Unclear)\n",
            "words: \"product\", \"amazon\", \"love\", \"buy\", \"money\", \"valu\", \"mobil\", \"thank\", \"experi\", \"iphon\"\n",
            "*****\n",
            "\n",
            "topic: Battery life, camera, quality, display\n",
            "words: \"batteri\", \"life\", \"camera\", \"work\", \"face\", \"qualiti\", \"iphon\", \"display\", \"d\", \"perform\"\n",
            "*****\n",
            "\n",
            "topic: Satisfaction of switching from android to iPhone\n",
            "words: \"appl\", \"iphon\", \"android\", \"io\", \"user\", \"like\", \"batteri\", \"time\"\n",
            "*****\n",
            "\n",
            "topic: iPhone XR's camera, battery, screen, quality, etc.\n",
            "words: \"camera\", \"iphon\", \"qualiti\", \"xr\", \"batteri\", \"screen\", \"get\", \"buy\", \"work\", \"appl\"\n",
            "*****\n",
            "\n",
            "topic: Something about iPhone and/or Amazon (Unclear)\n",
            "words: \"s\", \"expect\", \"appl\", \"iphon\", \"deliveri\", \"time\", \"amazon\", \"like\"\n",
            "*****\n",
            "\n",
            "topic: Comparing iPhone With other phones and/or very detailed reviews\n",
            "words: \"iphon\", \"t\", \"xr\", \"face\", \"3\", \"appl\", \"day\", \"7\", \"6\", \"2\"\n",
            "*****\n",
            "\n"
          ],
          "name": "stdout"
        }
      ]
    },
    {
      "cell_type": "code",
      "metadata": {
        "colab": {
          "base_uri": "https://localhost:8080/",
          "height": 861
        },
        "id": "IFy8iwQlSyFp",
        "outputId": "b0b77ea3-1b6e-4e20-dc6d-4070f1872065"
      },
      "source": [
        "\n",
        "lda_model.visualize_topics_"
      ],
      "execution_count": null,
      "outputs": [
        {
          "output_type": "execute_result",
          "data": {
            "text/html": [
              "\n",
              "<link rel=\"stylesheet\" type=\"text/css\" href=\"https://cdn.rawgit.com/bmabey/pyLDAvis/files/ldavis.v1.0.0.css\">\n",
              "\n",
              "\n",
              "<div id=\"ldavis_el611397235736700805722109746\"></div>\n",
              "<script type=\"text/javascript\">\n",
              "\n",
              "var ldavis_el611397235736700805722109746_data = {\"mdsDat\": {\"x\": [0.04040782153606414, -0.04040782153606414], \"y\": [0.0, 0.0], \"topics\": [1, 2], \"cluster\": [1, 1], \"Freq\": [65.51849301825509, 34.48150698174491]}, \"tinfo\": {\"Term\": [\"screen\", \"issu\", \"2\", \"1\", \"5\", \"3\", \"t\", \"io\", \"year\", \"10\", \"m\", \"app\", \"don\", \"heat\", \"charger\", \"miss\", \"awesom\", \"know\", \"user\", \"feel\", \"video\", \"amazon\", \"purchas\", \"7\", \"support\", \"display\", \"4\", \"speaker\", \"android\", \"look\", \"awesom\", \"look\", \"model\", \"perform\", \"deal\", \"weight\", \"sale\", \"valu\", \"class\", \"u\", \"life\", \"x\", \"money\", \"problem\", \"mobil\", \"servic\", \"lcd\", \"deliveri\", \"thank\", \"8\", \"iphon\", \"offer\", \"take\", \"s\", \"budget\", \"superb\", \"phone\", \"thing\", \"order\", \"come\", \"product\", \"like\", \"batteri\", \"camera\", \"time\", \"buy\", \"appl\", \"price\", \"xr\", \"face\", \"get\", \"qualiti\", \"amazon\", \"xs\", \"work\", \"day\", \"display\", \"love\", \"screen\", \"devic\", \"issu\", \"5\", \"app\", \"1\", \"2\", \"3\", \"don\", \"year\", \"heat\", \"screen\", \"speaker\", \"support\", \"m\", \"video\", \"know\", \"miss\", \"charger\", \"t\", \"10\", \"io\", \"photo\", \"peopl\", \"4\", \"user\", \"piec\", \"pictur\", \"custom\", \"backup\", \"feel\", \"purchas\", \"android\", \"7\", \"display\", \"amazon\", \"appl\", \"xr\", \"qualiti\", \"day\", \"love\", \"batteri\", \"camera\", \"product\", \"iphon\", \"price\", \"buy\", \"get\", \"work\", \"devic\"], \"Freq\": [78.0, 38.0, 41.0, 40.0, 30.0, 35.0, 48.0, 39.0, 23.0, 29.0, 22.0, 17.0, 18.0, 18.0, 20.0, 19.0, 28.0, 17.0, 26.0, 32.0, 15.0, 89.0, 32.0, 34.0, 13.0, 49.0, 18.0, 11.0, 26.0, 35.0, 27.26229012393906, 33.453786799760195, 8.74950055547406, 38.88789398394538, 11.985929731588065, 9.37082628151195, 16.152390385111207, 20.270939373335736, 9.239651827026679, 10.073598139350583, 65.08023475369389, 24.985185519831177, 30.55876667597043, 20.5472470083228, 22.978407395562577, 16.239661611768863, 10.522575504162544, 19.39150611023245, 15.324981842972514, 28.814088920209134, 201.66698035048884, 11.955464450806335, 20.697259095917985, 25.327690462197953, 8.698334166109237, 10.277934236195819, 10.262487735406356, 19.693671201413096, 8.522708538775085, 12.27310494283031, 118.77813011678208, 31.099620780023884, 103.99769002473613, 100.92538772252469, 33.77018227746369, 62.694139954448154, 88.59352665818369, 57.202986375938885, 71.87685231735006, 34.67632843835495, 45.70621202004727, 53.89669074160654, 56.49532347298424, 27.039725029118294, 38.73953035542263, 34.86959812657442, 28.952929402982484, 24.244643603596042, 25.805463840680435, 21.235287930705653, 32.22705567163807, 23.993306069468154, 12.871442662020744, 29.178866339895283, 29.907399376646083, 25.28703200392204, 13.011754080332334, 15.973369731404345, 12.307197633569135, 52.82455626690229, 7.9592015245172005, 9.326406794391843, 14.889557290901259, 9.925140148984458, 11.061539256124643, 12.326927671967963, 12.814610660571836, 29.793448214385815, 18.124572990564662, 23.248300306239198, 9.178120011498995, 7.921725402552063, 10.726312336665458, 13.89171135936614, 6.622734474194279, 7.651725028785606, 7.021032418962378, 5.209782649360552, 15.83799599399454, 15.75596697526762, 13.052008712484566, 16.548368634624307, 20.852631954585185, 32.96896108717414, 41.69978841285248, 35.837629579861336, 28.05945343911018, 21.595858789899307, 17.4246037929389, 35.2000846905905, 34.38785686745518, 36.4885541485792, 42.15417186640481, 23.9079345644334, 24.017953103560455, 20.831365126886467, 19.071595365277044, 14.198328202175823], \"Total\": [78.0, 38.0, 41.0, 40.0, 30.0, 35.0, 48.0, 39.0, 23.0, 29.0, 22.0, 17.0, 18.0, 18.0, 20.0, 19.0, 28.0, 17.0, 26.0, 32.0, 15.0, 89.0, 32.0, 34.0, 13.0, 49.0, 18.0, 11.0, 26.0, 35.0, 28.05538823600796, 35.81252566649814, 9.438185287528553, 42.5957902763057, 13.280790766848074, 10.44684115896699, 18.053128168299008, 22.837719114283757, 10.480376402045945, 11.434676176748379, 74.4271941277092, 28.6375137378093, 35.38512343695078, 23.934575501643906, 26.81555034495297, 19.198313498361692, 12.487390739301913, 23.06253984040947, 18.264649575442707, 34.663641943899506, 243.82115221689367, 14.456069624713034, 25.063721316302033, 30.884942632396033, 10.618759856793643, 12.549931963333934, 12.553882560347748, 24.152782774021105, 10.663657562206055, 15.542360746134971, 155.26668426536128, 39.91683136077883, 139.19777471532663, 135.31324458997986, 43.904092758445465, 86.7120930580086, 130.29331507103618, 81.11092094037228, 107.71448189721139, 47.17492995476647, 66.53757714693373, 81.95614418071672, 89.46428456015838, 36.28474039591001, 57.81112572069968, 56.46545691647373, 49.80556135756767, 41.66924739653494, 78.63002010758272, 35.433616132881475, 38.17437463635646, 30.91924270415149, 17.49731909081114, 40.343173320128315, 41.421291812442675, 35.8316212571142, 18.455682080821735, 23.70764260667908, 18.312238675870958, 78.63002010758272, 11.84822455094718, 13.986175472351214, 22.557184329960304, 15.037872376185312, 17.128831592451533, 19.246053719957608, 20.27513933563728, 48.836474007114475, 29.724395690519607, 39.13573846552775, 15.815579776514033, 13.700188866554585, 18.920175832533328, 26.07321815947421, 12.50592364138642, 14.575014418534959, 13.516811981911346, 10.358659595928575, 32.048251222955265, 32.031552509992125, 26.832053787976577, 34.98227377206311, 49.80556135756767, 89.46428456015838, 130.29331507103618, 107.71448189721139, 81.95614418071672, 56.46545691647373, 41.66924739653494, 139.19777471532663, 135.31324458997986, 155.26668426536128, 243.82115221689367, 81.11092094037228, 86.7120930580086, 66.53757714693373, 57.81112572069968, 35.433616132881475], \"Category\": [\"Default\", \"Default\", \"Default\", \"Default\", \"Default\", \"Default\", \"Default\", \"Default\", \"Default\", \"Default\", \"Default\", \"Default\", \"Default\", \"Default\", \"Default\", \"Default\", \"Default\", \"Default\", \"Default\", \"Default\", \"Default\", \"Default\", \"Default\", \"Default\", \"Default\", \"Default\", \"Default\", \"Default\", \"Default\", \"Default\", \"Topic1\", \"Topic1\", \"Topic1\", \"Topic1\", \"Topic1\", \"Topic1\", \"Topic1\", \"Topic1\", \"Topic1\", \"Topic1\", \"Topic1\", \"Topic1\", \"Topic1\", \"Topic1\", \"Topic1\", \"Topic1\", \"Topic1\", \"Topic1\", \"Topic1\", \"Topic1\", \"Topic1\", \"Topic1\", \"Topic1\", \"Topic1\", \"Topic1\", \"Topic1\", \"Topic1\", \"Topic1\", \"Topic1\", \"Topic1\", \"Topic1\", \"Topic1\", \"Topic1\", \"Topic1\", \"Topic1\", \"Topic1\", \"Topic1\", \"Topic1\", \"Topic1\", \"Topic1\", \"Topic1\", \"Topic1\", \"Topic1\", \"Topic1\", \"Topic1\", \"Topic1\", \"Topic1\", \"Topic1\", \"Topic1\", \"Topic1\", \"Topic2\", \"Topic2\", \"Topic2\", \"Topic2\", \"Topic2\", \"Topic2\", \"Topic2\", \"Topic2\", \"Topic2\", \"Topic2\", \"Topic2\", \"Topic2\", \"Topic2\", \"Topic2\", \"Topic2\", \"Topic2\", \"Topic2\", \"Topic2\", \"Topic2\", \"Topic2\", \"Topic2\", \"Topic2\", \"Topic2\", \"Topic2\", \"Topic2\", \"Topic2\", \"Topic2\", \"Topic2\", \"Topic2\", \"Topic2\", \"Topic2\", \"Topic2\", \"Topic2\", \"Topic2\", \"Topic2\", \"Topic2\", \"Topic2\", \"Topic2\", \"Topic2\", \"Topic2\", \"Topic2\", \"Topic2\", \"Topic2\", \"Topic2\", \"Topic2\", \"Topic2\", \"Topic2\", \"Topic2\"], \"logprob\": [30.0, 29.0, 28.0, 27.0, 26.0, 25.0, 24.0, 23.0, 22.0, 21.0, 20.0, 19.0, 18.0, 17.0, 16.0, 15.0, 14.0, 13.0, 12.0, 11.0, 10.0, 9.0, 8.0, 7.0, 6.0, 5.0, 4.0, 3.0, 2.0, 1.0, -4.511499881744385, -4.3069000244140625, -5.6479997634887695, -4.156300067901611, -5.3333001136779785, -5.579400062561035, -5.034999847412109, -4.807799816131592, -5.593500137329102, -5.5071001052856445, -3.641400098800659, -4.598700046539307, -4.39739990234375, -4.794300079345703, -4.682499885559082, -5.029600143432617, -5.463500022888184, -4.852200031280518, -5.087500095367432, -4.456200122833252, -2.5104000568389893, -5.3358001708984375, -4.7870001792907715, -4.585100173950195, -5.653900146484375, -5.486999988555908, -5.488500118255615, -4.836699962615967, -5.674300193786621, -5.309599876403809, -3.039799928665161, -4.379799842834473, -3.1726999282836914, -3.2026000022888184, -4.297399997711182, -3.678800106048584, -3.3329999446868896, -3.770400047302246, -3.542099952697754, -4.270999908447266, -3.994800090789795, -3.8299999237060547, -3.782900094985962, -4.519700050354004, -4.160200119018555, -4.265399932861328, -4.451300144195557, -4.628799915313721, -4.566400051116943, -4.76140022277832, -3.7023000717163086, -3.997299909591675, -4.620100021362305, -3.8017001152038574, -3.7769999504089355, -3.9447999000549316, -4.609300136566162, -4.404200077056885, -4.664899826049805, -3.2081000804901123, -5.100800037384033, -4.942299842834473, -4.474400043487549, -4.880000114440918, -4.771599769592285, -4.663300037384033, -4.624499797821045, -3.7808001041412354, -4.2778000831604, -4.028900146484375, -4.9583001136779785, -5.105500221252441, -4.8024001121521, -4.543799877166748, -5.284599781036377, -5.140200138092041, -5.226200103759766, -5.524600028991699, -4.412700176239014, -4.417900085449219, -4.606200218200684, -4.368800163269043, -4.137599945068359, -3.679500102996826, -3.4446001052856445, -3.596100091934204, -3.8408000469207764, -4.10260009765625, -4.317200183868408, -3.6140999794006348, -3.637399911880493, -3.5780999660491943, -3.433799982070923, -4.000899791717529, -3.996299982070923, -4.138700008392334, -4.226900100708008, -4.521999835968018], \"loglift\": [30.0, 29.0, 28.0, 27.0, 26.0, 25.0, 24.0, 23.0, 22.0, 21.0, 20.0, 19.0, 18.0, 17.0, 16.0, 15.0, 14.0, 13.0, 12.0, 11.0, 10.0, 9.0, 8.0, 7.0, 6.0, 5.0, 4.0, 3.0, 2.0, 1.0, 0.3942, 0.3547, 0.3471, 0.3318, 0.3203, 0.3141, 0.3116, 0.3036, 0.2968, 0.2961, 0.2886, 0.2864, 0.2762, 0.2702, 0.2684, 0.2555, 0.2516, 0.2495, 0.2474, 0.238, 0.233, 0.2329, 0.2314, 0.2245, 0.2233, 0.2231, 0.2213, 0.2187, 0.1987, 0.1867, 0.155, 0.1732, 0.1313, 0.1296, 0.1604, 0.0985, 0.0371, 0.0736, 0.0183, 0.115, 0.0473, 0.0037, -0.0368, 0.1287, 0.0225, -0.0592, -0.1196, -0.1187, -0.6913, -0.0892, 0.8954, 0.8111, 0.7577, 0.7408, 0.7391, 0.7162, 0.7152, 0.6699, 0.6674, 0.667, 0.6669, 0.6595, 0.6494, 0.6492, 0.6275, 0.6192, 0.6059, 0.5706, 0.57, 0.5439, 0.5206, 0.5169, 0.4972, 0.4351, 0.4291, 0.4204, 0.4097, 0.3775, 0.3599, 0.3552, 0.3441, 0.3162, 0.1941, 0.0665, -0.0745, -0.0357, -0.0071, 0.1036, 0.1929, -0.3101, -0.3051, -0.3834, -0.6904, -0.1569, -0.219, -0.0966, -0.0442, 0.1502]}, \"token.table\": {\"Topic\": [1, 2, 1, 2, 1, 2, 1, 2, 1, 2, 1, 2, 1, 2, 1, 2, 1, 2, 1, 2, 1, 2, 1, 2, 1, 2, 1, 2, 1, 2, 1, 2, 1, 2, 1, 2, 1, 2, 1, 2, 1, 2, 1, 2, 1, 2, 1, 2, 1, 2, 1, 2, 1, 2, 1, 2, 1, 2, 1, 2, 1, 2, 1, 2, 1, 2, 1, 2, 1, 2, 1, 2, 1, 2, 1, 2, 1, 2, 1, 2, 1, 2, 1, 2, 1, 2, 1, 2, 1, 2, 1, 2, 1, 2, 1, 2, 1, 2, 1, 2, 1, 2, 1, 2, 1, 2, 1, 2, 1, 2, 1, 2, 1, 2, 1, 2, 1, 2, 1, 2, 1, 2, 1, 2, 1, 2, 1, 2, 1, 2, 1, 2, 1, 2, 1, 2, 1, 2, 1, 2, 1, 2, 1, 2, 1, 2, 1, 2, 1, 2, 1, 2, 1, 2, 1, 2, 1, 2, 1, 2, 1, 2], \"Freq\": [0.2726607526064837, 0.7188328932352752, 0.40370879613297966, 0.6055631941994696, 0.28970607808024185, 0.7242651952006046, 0.3069914118891844, 0.6977077542936009, 0.42282905142160276, 0.5813899457047038, 0.2263962305603338, 0.7762156476354303, 0.514546313292386, 0.4859604069983645, 0.8366114572419804, 0.1730920256362718, 0.6259481118674121, 0.3688622802075821, 0.5217640107099588, 0.4844951528021046, 0.28575806236658224, 0.7429709621531139, 0.6830741849762363, 0.3223496153820441, 0.962381977140013, 0.035643776931111586, 0.482687934061008, 0.482687934061008, 0.7471383807154274, 0.2514408012023073, 0.8475565999585162, 0.18834591110189247, 0.7265422593115622, 0.2767780035472618, 0.7464162159886542, 0.25126882518429944, 0.34525040169249116, 0.6411793174289122, 0.8587477829749559, 0.09541642033055066, 0.7720834817827867, 0.19302087044569669, 0.44389165196863006, 0.5178735939634017, 0.6198479904585487, 0.3896187368596592, 0.9035606546829106, 0.07529672122357588, 0.823846815289129, 0.17344143479771137, 0.5926575464735745, 0.395105030982383, 0.5822642935755932, 0.4216396608650847, 0.27091927451414877, 0.7043901137367868, 0.741919490576025, 0.25437239676892287, 0.4992472097366626, 0.4992472097366626, 0.6913386686506338, 0.3156111313405067, 0.32764972684120125, 0.6552994536824025, 0.40883347618682114, 0.5876981220185554, 0.82847611113046, 0.17225740924494712, 0.15717349811634446, 0.8382586566205038, 0.3502865894626535, 0.6421920806815314, 0.880888588308476, 0.16016156151063202, 0.8733366985253652, 0.12092354287274287, 0.7766147497984958, 0.22546879832859554, 0.9214653081804505, 0.05584638231396669, 0.5759643261998476, 0.40797473105822535, 0.35465419278302623, 0.6649766114681742, 0.36371092494360024, 0.6235044427604576, 0.8577112796168621, 0.1491671790638021, 0.9535731420628537, 0.10595257134031708, 0.8760743778451362, 0.14130231900728002, 0.8301011486196553, 0.20752528715491383, 0.8439880920311658, 0.18755290934025906, 0.43795016685116106, 0.5839335558015482, 0.9155834355230664, 0.09390599338698118, 0.7965663173865947, 0.15931326347731892, 0.44260154220807796, 0.5690591256961003, 0.4802739674204467, 0.5488845341947962, 0.4797726399147303, 0.5597347465671854, 0.7027413736542686, 0.2958911046965342, 0.8773917882336225, 0.12534168403337465, 0.7664232707940162, 0.23185914074440825, 0.4995074776662436, 0.4995074776662436, 0.6588889770232205, 0.34164613623426243, 0.8094559312464722, 0.19426942349915333, 0.8862729966153862, 0.11078412457692327, 0.33066251241480576, 0.6740428137686425, 0.8334065386194145, 0.15626372599114022, 0.3376033246838008, 0.6752066493676016, 0.7968170687471571, 0.15936341374943142, 0.3574958722550226, 0.6434925700590407, 0.3890534766541927, 0.614294963138199, 0.8378644070839196, 0.15959322039693707, 0.8212585704446193, 0.16425171408892386, 0.8280619333649676, 0.1656123866729935, 0.7744152734703692, 0.22776919807952034, 0.8745328547505619, 0.08745328547505618, 0.46024238076800533, 0.5369494442293395, 0.8757441975670452, 0.1313616296350568, 0.3324938445360287, 0.6649876890720574, 0.8615044359389822, 0.09572271510433136, 0.6746106309781783, 0.32865646124577913, 0.8729808121224297, 0.13967692993958875, 0.6684337958261488, 0.3342168979130744, 0.7441144598362186, 0.24803815327873954, 0.337443926109557, 0.674887852219114], \"Term\": [\"1\", \"1\", \"10\", \"10\", \"2\", \"2\", \"3\", \"3\", \"4\", \"4\", \"5\", \"5\", \"7\", \"7\", \"8\", \"8\", \"amazon\", \"amazon\", \"android\", \"android\", \"app\", \"app\", \"appl\", \"appl\", \"awesom\", \"awesom\", \"backup\", \"backup\", \"batteri\", \"batteri\", \"budget\", \"budget\", \"buy\", \"buy\", \"camera\", \"camera\", \"charger\", \"charger\", \"class\", \"class\", \"come\", \"come\", \"custom\", \"custom\", \"day\", \"day\", \"deal\", \"deal\", \"deliveri\", \"deliveri\", \"devic\", \"devic\", \"display\", \"display\", \"don\", \"don\", \"face\", \"face\", \"feel\", \"feel\", \"get\", \"get\", \"heat\", \"heat\", \"io\", \"io\", \"iphon\", \"iphon\", \"issu\", \"issu\", \"know\", \"know\", \"lcd\", \"lcd\", \"life\", \"life\", \"like\", \"like\", \"look\", \"look\", \"love\", \"love\", \"m\", \"m\", \"miss\", \"miss\", \"mobil\", \"mobil\", \"model\", \"model\", \"money\", \"money\", \"offer\", \"offer\", \"order\", \"order\", \"peopl\", \"peopl\", \"perform\", \"perform\", \"phone\", \"phone\", \"photo\", \"photo\", \"pictur\", \"pictur\", \"piec\", \"piec\", \"price\", \"price\", \"problem\", \"problem\", \"product\", \"product\", \"purchas\", \"purchas\", \"qualiti\", \"qualiti\", \"s\", \"s\", \"sale\", \"sale\", \"screen\", \"screen\", \"servic\", \"servic\", \"speaker\", \"speaker\", \"superb\", \"superb\", \"support\", \"support\", \"t\", \"t\", \"take\", \"take\", \"thank\", \"thank\", \"thing\", \"thing\", \"time\", \"time\", \"u\", \"u\", \"user\", \"user\", \"valu\", \"valu\", \"video\", \"video\", \"weight\", \"weight\", \"work\", \"work\", \"x\", \"x\", \"xr\", \"xr\", \"xs\", \"xs\", \"year\", \"year\"]}, \"R\": 30, \"lambda.step\": 0.01, \"plot.opts\": {\"xlab\": \"PC1\", \"ylab\": \"PC2\"}, \"topic.order\": [1, 2]};\n",
              "\n",
              "function LDAvis_load_lib(url, callback){\n",
              "  var s = document.createElement('script');\n",
              "  s.src = url;\n",
              "  s.async = true;\n",
              "  s.onreadystatechange = s.onload = callback;\n",
              "  s.onerror = function(){console.warn(\"failed to load library \" + url);};\n",
              "  document.getElementsByTagName(\"head\")[0].appendChild(s);\n",
              "}\n",
              "\n",
              "if(typeof(LDAvis) !== \"undefined\"){\n",
              "   // already loaded: just create the visualization\n",
              "   !function(LDAvis){\n",
              "       new LDAvis(\"#\" + \"ldavis_el611397235736700805722109746\", ldavis_el611397235736700805722109746_data);\n",
              "   }(LDAvis);\n",
              "}else if(typeof define === \"function\" && define.amd){\n",
              "   // require.js is available: use it to load d3/LDAvis\n",
              "   require.config({paths: {d3: \"https://cdnjs.cloudflare.com/ajax/libs/d3/3.5.5/d3.min\"}});\n",
              "   require([\"d3\"], function(d3){\n",
              "      window.d3 = d3;\n",
              "      LDAvis_load_lib(\"https://cdn.rawgit.com/bmabey/pyLDAvis/files/ldavis.v1.0.0.js\", function(){\n",
              "        new LDAvis(\"#\" + \"ldavis_el611397235736700805722109746\", ldavis_el611397235736700805722109746_data);\n",
              "      });\n",
              "    });\n",
              "}else{\n",
              "    // require.js not available: dynamically load d3 & LDAvis\n",
              "    LDAvis_load_lib(\"https://cdnjs.cloudflare.com/ajax/libs/d3/3.5.5/d3.min.js\", function(){\n",
              "         LDAvis_load_lib(\"https://cdn.rawgit.com/bmabey/pyLDAvis/files/ldavis.v1.0.0.js\", function(){\n",
              "                 new LDAvis(\"#\" + \"ldavis_el611397235736700805722109746\", ldavis_el611397235736700805722109746_data);\n",
              "            })\n",
              "         });\n",
              "}\n",
              "</script>"
            ],
            "text/plain": [
              "<IPython.core.display.HTML object>"
            ]
          },
          "metadata": {
            "tags": []
          },
          "execution_count": 23
        }
      ]
    },
    {
      "cell_type": "code",
      "metadata": {
        "colab": {
          "base_uri": "https://localhost:8080/",
          "height": 374
        },
        "id": "D7HLMlonS2HG",
        "outputId": "ff04a4ce-f491-4af0-d3e0-34236e75548f"
      },
      "source": [
        "df['topic_index'] = lda_model.training_samples_prediction_\n",
        "df['topic_names'] = df['topic_index'].apply(lambda x: topic_names[x])\n",
        "df.head()"
      ],
      "execution_count": null,
      "outputs": [
        {
          "output_type": "execute_result",
          "data": {
            "text/html": [
              "<div>\n",
              "<style scoped>\n",
              "    .dataframe tbody tr th:only-of-type {\n",
              "        vertical-align: middle;\n",
              "    }\n",
              "\n",
              "    .dataframe tbody tr th {\n",
              "        vertical-align: top;\n",
              "    }\n",
              "\n",
              "    .dataframe thead th {\n",
              "        text-align: right;\n",
              "    }\n",
              "</style>\n",
              "<table border=\"1\" class=\"dataframe\">\n",
              "  <thead>\n",
              "    <tr style=\"text-align: right;\">\n",
              "      <th></th>\n",
              "      <th>title</th>\n",
              "      <th>date</th>\n",
              "      <th>location</th>\n",
              "      <th>rating</th>\n",
              "      <th>text</th>\n",
              "      <th>title_clean</th>\n",
              "      <th>text_clean</th>\n",
              "      <th>topic_index</th>\n",
              "      <th>topic_names</th>\n",
              "    </tr>\n",
              "  </thead>\n",
              "  <tbody>\n",
              "    <tr>\n",
              "      <th>0</th>\n",
              "      <td>Great phone, if you don't care about OLED scre...</td>\n",
              "      <td>2019-04-12</td>\n",
              "      <td>India</td>\n",
              "      <td>5.0</td>\n",
              "      <td>Great Phone, I am happy with the phone so far....</td>\n",
              "      <td>don t care screen color</td>\n",
              "      <td>thing notic differ xs xr 1 touch don t feel ma...</td>\n",
              "      <td>1</td>\n",
              "      <td>Amazon's Product? (Unclear)</td>\n",
              "    </tr>\n",
              "    <tr>\n",
              "      <th>1</th>\n",
              "      <td>Just don’t buy it from amazon totally waste of...</td>\n",
              "      <td>2019-12-09</td>\n",
              "      <td>India</td>\n",
              "      <td>1.0</td>\n",
              "      <td>Your browser does not support HTML5 video. Iph...</td>\n",
              "      <td>buy amazon wast money</td>\n",
              "      <td>browser support html5 video iphon receiv piec ...</td>\n",
              "      <td>1</td>\n",
              "      <td>Amazon's Product? (Unclear)</td>\n",
              "    </tr>\n",
              "    <tr>\n",
              "      <th>2</th>\n",
              "      <td>Worth Every Penny</td>\n",
              "      <td>2019-04-04</td>\n",
              "      <td>India</td>\n",
              "      <td>5.0</td>\n",
              "      <td>When compared with XS only visible difference ...</td>\n",
              "      <td>penni</td>\n",
              "      <td>compar xs differ screen keep prefer xs prosava...</td>\n",
              "      <td>1</td>\n",
              "      <td>Amazon's Product? (Unclear)</td>\n",
              "    </tr>\n",
              "    <tr>\n",
              "      <th>3</th>\n",
              "      <td>Blindly go for it.</td>\n",
              "      <td>2019-10-03</td>\n",
              "      <td>India</td>\n",
              "      <td>5.0</td>\n",
              "      <td>Your browser does not support HTML5 video. I c...</td>\n",
              "      <td>NaN</td>\n",
              "      <td>browser support html5 video choos iphon xr x r...</td>\n",
              "      <td>1</td>\n",
              "      <td>Amazon's Product? (Unclear)</td>\n",
              "    </tr>\n",
              "    <tr>\n",
              "      <th>4</th>\n",
              "      <td>Apple's Perfection at a premium but ....</td>\n",
              "      <td>2019-10-08</td>\n",
              "      <td>India</td>\n",
              "      <td>5.0</td>\n",
              "      <td>Upgraded from 5s to xr after 3 years of 5s use...</td>\n",
              "      <td>appl s perfect premium</td>\n",
              "      <td>upgrad 5s xr 3 year use purchas ₹37999 batteri...</td>\n",
              "      <td>1</td>\n",
              "      <td>Amazon's Product? (Unclear)</td>\n",
              "    </tr>\n",
              "  </tbody>\n",
              "</table>\n",
              "</div>"
            ],
            "text/plain": [
              "                                               title  ...                  topic_names\n",
              "0  Great phone, if you don't care about OLED scre...  ...  Amazon's Product? (Unclear)\n",
              "1  Just don’t buy it from amazon totally waste of...  ...  Amazon's Product? (Unclear)\n",
              "2                                  Worth Every Penny  ...  Amazon's Product? (Unclear)\n",
              "3                                 Blindly go for it.  ...  Amazon's Product? (Unclear)\n",
              "4           Apple's Perfection at a premium but ....  ...  Amazon's Product? (Unclear)\n",
              "\n",
              "[5 rows x 9 columns]"
            ]
          },
          "metadata": {
            "tags": []
          },
          "execution_count": 25
        }
      ]
    },
    {
      "cell_type": "code",
      "metadata": {
        "id": "Cc3Te0SOS-ti"
      },
      "source": [
        ""
      ],
      "execution_count": null,
      "outputs": []
    },
    {
      "cell_type": "code",
      "metadata": {
        "id": "3543eVpSTMsl"
      },
      "source": [
        ""
      ],
      "execution_count": null,
      "outputs": []
    },
    {
      "cell_type": "code",
      "metadata": {
        "id": "PHsx7mtPTVi3"
      },
      "source": [
        ""
      ],
      "execution_count": null,
      "outputs": []
    }
  ]
}